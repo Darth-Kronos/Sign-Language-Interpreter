{
 "cells": [
  {
   "cell_type": "code",
   "execution_count": 1,
   "metadata": {},
   "outputs": [],
   "source": [
    "import numpy as np\n",
    "import pandas as pd\n",
    "import matplotlib.pyplot as plt\n",
    "from sklearn.preprocessing import LabelBinarizer\n",
    "from sklearn.model_selection import train_test_split\n",
    "from tensorflow import keras\n",
    "from tensorflow.keras.models import Sequential\n",
    "from tensorflow.keras.layers import Dense, Conv2D, MaxPooling2D, Flatten, Dropout\n",
    "import pickle\n",
    "import tensorflow as tf"
   ]
  },
  {
   "cell_type": "code",
   "execution_count": 2,
   "metadata": {},
   "outputs": [],
   "source": [
    "train = pd.read_csv('sign_mnist_train.csv')\n",
    "test = pd.read_csv('sign_mnist_test.csv')\n",
    "labels = train['label'].values\n",
    "unique_val = np.array(labels)\n",
    "np.unique(unique_val)\n",
    "train.drop('label', axis = 1, inplace = True)\n",
    "images = train.values\n",
    "images = np.array([np.reshape(i, (28, 28)) for i in images])\n",
    "images = np.array([i.flatten() for i in images])\n",
    "label_binrizer = LabelBinarizer()\n",
    "labels = label_binrizer.fit_transform(labels)\n",
    "x_train, x_test, y_train, y_test = train_test_split(images, labels, test_size = 0.3, random_state = 101)\n",
    "batch_size = 128\n",
    "num_classes = 24\n",
    "epochs = 50\n",
    "x_train = x_train / 255\n",
    "x_test = x_test / 255\n",
    "x_train = x_train.reshape(x_train.shape[0], 28, 28, 1)\n",
    "x_test = x_test.reshape(x_test.shape[0], 28, 28, 1)"
   ]
  },
  {
   "cell_type": "code",
   "execution_count": 3,
   "metadata": {},
   "outputs": [
    {
     "name": "stdout",
     "output_type": "stream",
     "text": [
      "WARNING:tensorflow:From /home/neeraj/.virtualenvs/tensorflow/lib/python3.6/site-packages/tensorflow/python/ops/init_ops.py:1251: calling VarianceScaling.__init__ (from tensorflow.python.ops.init_ops) with dtype is deprecated and will be removed in a future version.\n",
      "Instructions for updating:\n",
      "Call initializer instance with the dtype argument instead of passing it to the constructor\n",
      "Train on 19218 samples, validate on 8237 samples\n",
      "Epoch 1/50\n",
      "19218/19218 [==============================] - 3s 156us/sample - loss: 2.6747 - acc: 0.1822 - val_loss: 1.7599 - val_acc: 0.4483\n",
      "Epoch 2/50\n",
      "19218/19218 [==============================] - 2s 101us/sample - loss: 1.4171 - acc: 0.5342 - val_loss: 1.0486 - val_acc: 0.6504\n",
      "Epoch 3/50\n",
      "19218/19218 [==============================] - 2s 102us/sample - loss: 0.8441 - acc: 0.7157 - val_loss: 0.5993 - val_acc: 0.7973\n",
      "Epoch 4/50\n",
      "19218/19218 [==============================] - 2s 106us/sample - loss: 0.5549 - acc: 0.8102 - val_loss: 0.3749 - val_acc: 0.8751\n",
      "Epoch 5/50\n",
      "19218/19218 [==============================] - 2s 110us/sample - loss: 0.3925 - acc: 0.8666 - val_loss: 0.2811 - val_acc: 0.9104\n",
      "Epoch 6/50\n",
      "19218/19218 [==============================] - 2s 101us/sample - loss: 0.2683 - acc: 0.9115 - val_loss: 0.1509 - val_acc: 0.9630\n",
      "Epoch 7/50\n",
      "19218/19218 [==============================] - 2s 104us/sample - loss: 0.1925 - acc: 0.9353 - val_loss: 0.1068 - val_acc: 0.9721\n",
      "Epoch 8/50\n",
      "19218/19218 [==============================] - 2s 109us/sample - loss: 0.1338 - acc: 0.9572 - val_loss: 0.0728 - val_acc: 0.9823\n",
      "Epoch 9/50\n",
      "19218/19218 [==============================] - 2s 99us/sample - loss: 0.1033 - acc: 0.9686 - val_loss: 0.0577 - val_acc: 0.9842\n",
      "Epoch 10/50\n",
      "19218/19218 [==============================] - 2s 109us/sample - loss: 0.0757 - acc: 0.9775 - val_loss: 0.0300 - val_acc: 0.9959\n",
      "Epoch 11/50\n",
      "19218/19218 [==============================] - 2s 103us/sample - loss: 0.0538 - acc: 0.9856 - val_loss: 0.0175 - val_acc: 0.9982\n",
      "Epoch 12/50\n",
      "19218/19218 [==============================] - 2s 103us/sample - loss: 0.0436 - acc: 0.9879 - val_loss: 0.0181 - val_acc: 0.9989\n",
      "Epoch 13/50\n",
      "19218/19218 [==============================] - 2s 104us/sample - loss: 0.0415 - acc: 0.9887 - val_loss: 0.0122 - val_acc: 0.9998\n",
      "Epoch 14/50\n",
      "19218/19218 [==============================] - 2s 107us/sample - loss: 0.0331 - acc: 0.9916 - val_loss: 0.0159 - val_acc: 0.9975\n",
      "Epoch 15/50\n",
      "19218/19218 [==============================] - 2s 90us/sample - loss: 0.0241 - acc: 0.9942 - val_loss: 0.0048 - val_acc: 1.0000\n",
      "Epoch 16/50\n",
      "19218/19218 [==============================] - 2s 90us/sample - loss: 0.0227 - acc: 0.9943 - val_loss: 0.0055 - val_acc: 0.9996\n",
      "Epoch 17/50\n",
      "19218/19218 [==============================] - 2s 91us/sample - loss: 0.0186 - acc: 0.9959 - val_loss: 0.0040 - val_acc: 0.9996\n",
      "Epoch 18/50\n",
      "19218/19218 [==============================] - 2s 91us/sample - loss: 0.0163 - acc: 0.9961 - val_loss: 0.0036 - val_acc: 1.0000\n",
      "Epoch 19/50\n",
      "19218/19218 [==============================] - 2s 90us/sample - loss: 0.0164 - acc: 0.9959 - val_loss: 0.0041 - val_acc: 0.9998\n",
      "Epoch 20/50\n",
      "19218/19218 [==============================] - 2s 96us/sample - loss: 0.0160 - acc: 0.9957 - val_loss: 0.0033 - val_acc: 0.9996\n",
      "Epoch 21/50\n",
      "19218/19218 [==============================] - 2s 104us/sample - loss: 0.0102 - acc: 0.9977 - val_loss: 0.0021 - val_acc: 1.0000\n",
      "Epoch 22/50\n",
      "19218/19218 [==============================] - 2s 103us/sample - loss: 0.0127 - acc: 0.9968 - val_loss: 0.0015 - val_acc: 0.9999\n",
      "Epoch 23/50\n",
      "19218/19218 [==============================] - 2s 105us/sample - loss: 0.0194 - acc: 0.9941 - val_loss: 0.0026 - val_acc: 0.9998\n",
      "Epoch 24/50\n",
      "19218/19218 [==============================] - 2s 105us/sample - loss: 0.0163 - acc: 0.9950 - val_loss: 0.0059 - val_acc: 0.9983\n",
      "Epoch 25/50\n",
      "19218/19218 [==============================] - 2s 104us/sample - loss: 0.0086 - acc: 0.9978 - val_loss: 8.3520e-04 - val_acc: 0.9998\n",
      "Epoch 26/50\n",
      "19218/19218 [==============================] - 2s 103us/sample - loss: 0.0077 - acc: 0.9979 - val_loss: 0.0058 - val_acc: 0.9989\n",
      "Epoch 27/50\n",
      "19218/19218 [==============================] - 2s 104us/sample - loss: 0.0143 - acc: 0.9959 - val_loss: 0.0013 - val_acc: 0.9999\n",
      "Epoch 28/50\n",
      "19218/19218 [==============================] - 2s 101us/sample - loss: 0.0107 - acc: 0.9972 - val_loss: 0.0025 - val_acc: 0.9996\n",
      "Epoch 29/50\n",
      "19218/19218 [==============================] - 2s 104us/sample - loss: 0.0098 - acc: 0.9973 - val_loss: 0.0016 - val_acc: 0.9995\n",
      "Epoch 30/50\n",
      "19218/19218 [==============================] - 2s 105us/sample - loss: 0.0051 - acc: 0.9989 - val_loss: 4.9704e-04 - val_acc: 1.0000\n",
      "Epoch 31/50\n",
      "19218/19218 [==============================] - 2s 105us/sample - loss: 0.0135 - acc: 0.9956 - val_loss: 0.0019 - val_acc: 0.9999\n",
      "Epoch 32/50\n",
      "19218/19218 [==============================] - 2s 104us/sample - loss: 0.0090 - acc: 0.9978 - val_loss: 9.6198e-04 - val_acc: 0.9999\n",
      "Epoch 33/50\n",
      "19218/19218 [==============================] - 2s 104us/sample - loss: 0.0037 - acc: 0.9992 - val_loss: 0.0010 - val_acc: 1.0000\n",
      "Epoch 34/50\n",
      "19218/19218 [==============================] - 2s 103us/sample - loss: 0.0050 - acc: 0.9989 - val_loss: 9.8408e-04 - val_acc: 0.9998\n",
      "Epoch 35/50\n",
      "19218/19218 [==============================] - 2s 104us/sample - loss: 0.0073 - acc: 0.9982 - val_loss: 0.0017 - val_acc: 0.9999\n",
      "Epoch 36/50\n",
      "19218/19218 [==============================] - 2s 103us/sample - loss: 0.0149 - acc: 0.9953 - val_loss: 0.0014 - val_acc: 0.9996\n",
      "Epoch 37/50\n",
      "19218/19218 [==============================] - 2s 102us/sample - loss: 0.0196 - acc: 0.9941 - val_loss: 5.3245e-04 - val_acc: 1.0000\n",
      "Epoch 38/50\n",
      "19218/19218 [==============================] - 2s 104us/sample - loss: 0.0051 - acc: 0.9988 - val_loss: 0.0012 - val_acc: 0.9998\n",
      "Epoch 39/50\n",
      "19218/19218 [==============================] - 2s 102us/sample - loss: 0.0041 - acc: 0.9988 - val_loss: 5.9707e-04 - val_acc: 0.9999\n",
      "Epoch 40/50\n",
      "19218/19218 [==============================] - 2s 105us/sample - loss: 0.0020 - acc: 0.9997 - val_loss: 2.5705e-04 - val_acc: 1.0000\n",
      "Epoch 41/50\n",
      "19218/19218 [==============================] - 2s 103us/sample - loss: 0.0043 - acc: 0.9988 - val_loss: 0.0027 - val_acc: 0.9996\n",
      "Epoch 42/50\n",
      "19218/19218 [==============================] - 2s 104us/sample - loss: 0.0047 - acc: 0.9986 - val_loss: 2.9909e-04 - val_acc: 0.9999\n",
      "Epoch 43/50\n",
      "19218/19218 [==============================] - 2s 105us/sample - loss: 0.0016 - acc: 0.9995 - val_loss: 6.5904e-04 - val_acc: 1.0000\n",
      "Epoch 44/50\n",
      "19218/19218 [==============================] - 2s 103us/sample - loss: 0.0154 - acc: 0.9952 - val_loss: 0.0013 - val_acc: 0.9995\n",
      "Epoch 45/50\n",
      "19218/19218 [==============================] - 2s 104us/sample - loss: 0.0065 - acc: 0.9983 - val_loss: 7.7124e-04 - val_acc: 0.9999\n",
      "Epoch 46/50\n",
      "19218/19218 [==============================] - 2s 102us/sample - loss: 0.0082 - acc: 0.9972 - val_loss: 3.0277e-04 - val_acc: 0.9999\n",
      "Epoch 47/50\n",
      "19218/19218 [==============================] - 2s 102us/sample - loss: 0.0020 - acc: 0.9994 - val_loss: 2.0302e-04 - val_acc: 1.0000\n",
      "Epoch 48/50\n",
      "19218/19218 [==============================] - 2s 104us/sample - loss: 0.0014 - acc: 0.9998 - val_loss: 3.2011e-04 - val_acc: 0.9999\n",
      "Epoch 49/50\n",
      "19218/19218 [==============================] - 2s 104us/sample - loss: 6.2200e-04 - acc: 1.0000 - val_loss: 2.8731e-04 - val_acc: 0.9999\n",
      "Epoch 50/50\n",
      "19218/19218 [==============================] - 2s 103us/sample - loss: 0.0073 - acc: 0.9975 - val_loss: 6.4250e-04 - val_acc: 0.9999\n"
     ]
    }
   ],
   "source": [
    "model = Sequential()\n",
    "model.add(Conv2D(64, kernel_size=(3,3), activation = 'relu', input_shape=(28, 28 ,1) ))\n",
    "model.add(MaxPooling2D(pool_size = (2, 2)))\n",
    "\n",
    "model.add(Conv2D(64, kernel_size = (3, 3), activation = 'relu'))\n",
    "model.add(MaxPooling2D(pool_size = (2, 2)))\n",
    "\n",
    "model.add(Conv2D(64, kernel_size = (3, 3), activation = 'relu'))\n",
    "model.add(MaxPooling2D(pool_size = (2, 2)))\n",
    "\n",
    "model.add(Flatten())\n",
    "model.add(Dense(128, activation = 'relu'))\n",
    "model.add(Dropout(0.20))\n",
    "model.add(Dense(num_classes, activation = 'softmax'))\n",
    "model.compile(loss = keras.losses.categorical_crossentropy, optimizer=keras.optimizers.Adam(),\n",
    "              metrics=['accuracy'])\n",
    "history = model.fit(x_train, y_train, validation_data = (x_test, y_test), epochs=epochs, batch_size=batch_size)"
   ]
  },
  {
   "cell_type": "code",
   "execution_count": 4,
   "metadata": {},
   "outputs": [],
   "source": [
    "model.save('SLI.model')\n",
    "\n",
    "f = open(\"lables.pickle\", \"wb\")\n",
    "f.write(pickle.dumps(label_binrizer))\n",
    "f.close()"
   ]
  },
  {
   "cell_type": "code",
   "execution_count": 5,
   "metadata": {},
   "outputs": [
    {
     "data": {
      "image/png": "[encoded data removed]",
      "text/plain": [
       "<Figure size 432x288 with 1 Axes>"
      ]
     },
     "metadata": {
      "needs_background": "light"
     },
     "output_type": "display_data"
    }
   ],
   "source": [
    "plt.plot(history.history[\"acc\"])\n",
    "plt.plot(history.history[\"val_acc\"])\n",
    "plt.title(\"Accuracy\")\n",
    "plt.xlabel(\"epoch\")\n",
    "plt.ylabel(\"accuracy\")\n",
    "plt.legend([\"train\",\"test\"])\n",
    "plt.show()"
   ]
  },
  {
   "cell_type": "code",
   "execution_count": 6,
   "metadata": {},
   "outputs": [
    {
     "data": {
      "image/png": "[encoded data removed]",
      "text/plain": [
       "<Figure size 432x288 with 1 Axes>"
      ]
     },
     "metadata": {
      "needs_background": "light"
     },
     "output_type": "display_data"
    }
   ],
   "source": [
    "plt.plot(history.history[\"acc\"])\n",
    "plt.plot(history.history[\"val_acc\"])\n",
    "plt.title(\"Accuracy\")\n",
    "plt.xlabel(\"epoch\")\n",
    "plt.ylabel(\"accuracy\")\n",
    "plt.legend([\"train\",\"test\"])\n",
    "plt.show()"
   ]
  },
  {
   "cell_type": "code",
   "execution_count": 7,
   "metadata": {},
   "outputs": [
    {
     "data": {
      "text/plain": [
       "array([[107, 118, 127, ..., 204, 203, 202],\n",
       "       [155, 157, 156, ..., 103, 135, 149],\n",
       "       [187, 188, 188, ..., 195, 194, 195],\n",
       "       ...,\n",
       "       [174, 174, 174, ..., 202, 200, 200],\n",
       "       [177, 181, 184, ...,  64,  87,  93],\n",
       "       [179, 180, 180, ..., 205, 209, 215]])"
      ]
     },
     "execution_count": 7,
     "metadata": {},
     "output_type": "execute_result"
    }
   ],
   "source": [
    "images"
   ]
  },
  {
   "cell_type": "code",
   "execution_count": null,
   "metadata": {},
   "outputs": [],
   "source": []
  },
  {
   "cell_type": "code",
   "execution_count": null,
   "metadata": {},
   "outputs": [],
   "source": []
  },
  {
   "cell_type": "code",
   "execution_count": null,
   "metadata": {},
   "outputs": [],
   "source": []
  }
 ],
 "metadata": {
  "kernelspec": {
   "display_name": "Python 3",
   "language": "python",
   "name": "python3"
  },
  "language_info": {
   "codemirror_mode": {
    "name": "ipython",
    "version": 3
   },
   "file_extension": ".py",
   "mimetype": "text/x-python",
   "name": "python",
   "nbconvert_exporter": "python",
   "pygments_lexer": "ipython3",
   "version": "3.6.8"
  }
 },
 "nbformat": 4,
 "nbformat_minor": 2
}
